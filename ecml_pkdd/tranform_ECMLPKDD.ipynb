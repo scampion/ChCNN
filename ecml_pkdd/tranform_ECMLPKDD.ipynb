{
 "cells": [
  {
   "cell_type": "code",
   "execution_count": 4,
   "metadata": {},
   "outputs": [
    {
     "name": "stdout",
     "output_type": "stream",
     "text": [
      "--2019-11-01 10:29:49--  https://gitlab.fing.edu.uy/gsi/web-application-attacks-datasets/raw/master/ecml_pkdd/learning_dataset.xml\n",
      "Résolution de gitlab.fing.edu.uy (gitlab.fing.edu.uy)… 164.73.47.230\n",
      "Connexion à gitlab.fing.edu.uy (gitlab.fing.edu.uy)|164.73.47.230|:443… connecté.\n",
      "requête HTTP transmise, en attente de la réponse… 200 OK\n",
      "Taille : 106610653 (102M) [text/plain]\n",
      "Sauvegarde en : « learning_dataset.xml »\n",
      "\n",
      "learning_dataset.xm 100%[===================>] 101,67M  1,10MB/s    ds 2m 19s  \n",
      "\n",
      "2019-11-01 10:32:11 (747 KB/s) — « learning_dataset.xml » sauvegardé [106610653/106610653]\n",
      "\n"
     ]
    }
   ],
   "source": [
    "!wget https://gitlab.fing.edu.uy/gsi/web-application-attacks-datasets/raw/master/ecml_pkdd/learning_dataset.xml"
   ]
  },
  {
   "cell_type": "code",
   "execution_count": 5,
   "metadata": {},
   "outputs": [],
   "source": [
    "import xml.etree.ElementTree as et\n",
    "\n",
    "xtree = et.parse(\"learning_dataset.xml\")\n",
    "xroot = xtree.getroot()"
   ]
  },
  {
   "cell_type": "code",
   "execution_count": 7,
   "metadata": {},
   "outputs": [
    {
     "name": "stdout",
     "output_type": "stream",
     "text": [
      "Training data length: 30069\n",
      "Validate data length: 10023\n",
      "Test data length: 10024\n",
      "MAX input length: 2423\n"
     ]
    },
    {
     "data": {
      "text/plain": [
       "0    20988\n",
       "2     1401\n",
       "3     1396\n",
       "6     1374\n",
       "5     1372\n",
       "4     1366\n",
       "1     1091\n",
       "7     1081\n",
       "Name: label, dtype: int64"
      ]
     },
     "execution_count": 7,
     "metadata": {},
     "output_type": "execute_result"
    }
   ],
   "source": [
    "import re\n",
    "import numpy as np\n",
    "from numpy import array\n",
    "import csv\n",
    "import random\n",
    "import pandas as pd\n",
    "\n",
    "\n",
    "\n",
    "docs=[]\n",
    "labels={'Valid':0, 'XSS':1, 'SqlInjection':2, 'LdapInjection':3,\n",
    "        'XPathInjection':4, 'PathTransversal':5, 'OsCommanding':6, 'SSI':7}\n",
    "max_length=0\n",
    "for node in xroot: \n",
    "    sample_id = node.attrib.get(\"id\")\n",
    "\n",
    "    request = node.find('{http://www.example.org/ECMLPKDD}request')\n",
    "    clazz = node.find('{http://www.example.org/ECMLPKDD}class')\n",
    "    type_ = clazz.find('{http://www.example.org/ECMLPKDD}type')\n",
    "    method = request.find('{http://www.example.org/ECMLPKDD}method')\n",
    "    protocol = request.find('{http://www.example.org/ECMLPKDD}protocol')\n",
    "    uri = request.find('{http://www.example.org/ECMLPKDD}uri')\n",
    "    query = request.find('{http://www.example.org/ECMLPKDD}query')\n",
    "    headers = request.find('{http://www.example.org/ECMLPKDD}headers')\n",
    "    \n",
    "    if query is not None: \n",
    "        query_text = \"?\"+query.text\n",
    "    else:\n",
    "        query_text = \"\"\n",
    "    headers = request.find('{http://www.example.org/ECMLPKDD}headers')\n",
    "    body = request.find('{http://www.example.org/ECMLPKDD}body')\n",
    "    if body is not None:\n",
    "        body_text= body.text\n",
    "    else:\n",
    "        body_text = \"\"\n",
    "    \n",
    "    \n",
    "    request_text = method.text+\" \"+uri.text+query_text+\" \"+protocol.text+\"\\n\"+headers.text+\"\\n\"\n",
    "    if len(body_text)>1:\n",
    "        request_text = request_text+ \"\\n\"+body_text+\"\\n\"\n",
    "     \n",
    "    label = labels[type_.text]\n",
    "    docs.append( (request_text,str(label)) )\n",
    "    \n",
    "    if len(request_text)>max_length:\n",
    "            max_length=len(request_text)\n",
    "\n",
    "df  = pd.DataFrame.from_records(docs,columns=['request','label'])\n",
    "df['label'].apply(str)\n",
    "\n",
    "train, validate, test = np.split(df.sample(frac=1), [int(.6*len(df)), int(.8*len(df))])\n",
    "\n",
    "\n",
    "\n",
    "#print(len(df.loc[df['label'] != '0']))\n",
    "\n",
    "print(\"Training data length: \"+str(len(train['request'])))\n",
    "print(\"Validate data length: \"+str(len(validate['request'])))\n",
    "print(\"Test data length: \"+str(len(test['request'])))\n",
    "\n",
    "train.to_csv('../_train.csv',header=False,index=False,quoting=csv.QUOTE_ALL,columns=['label','request'])\n",
    "validate.to_csv('../_validate.csv',header=False,index=False,quoting=csv.QUOTE_ALL,columns=['label','request'])\n",
    "test.to_csv('../_test.csv',header=False,index=False,quoting=csv.QUOTE_ALL,columns=['label','request'])\n",
    "print(\"MAX input length: \"+str(max_length))\n",
    "    \n",
    "#print number of samples per class  in training data\n",
    "train['label'].value_counts()  \n"
   ]
  }
 ],
 "metadata": {
  "kernelspec": {
   "display_name": "Python 3",
   "language": "python",
   "name": "python3"
  },
  "language_info": {
   "codemirror_mode": {
    "name": "ipython",
    "version": 3
   },
   "file_extension": ".py",
   "mimetype": "text/x-python",
   "name": "python",
   "nbconvert_exporter": "python",
   "pygments_lexer": "ipython3",
   "version": "3.7.4"
  }
 },
 "nbformat": 4,
 "nbformat_minor": 2
}
